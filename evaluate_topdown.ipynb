{
 "cells": [
  {
   "cell_type": "code",
   "execution_count": 3,
   "metadata": {},
   "outputs": [],
   "source": [
    "import warnings\n",
    "warnings.filterwarnings(\"ignore\")"
   ]
  },
  {
   "cell_type": "code",
   "execution_count": 4,
   "metadata": {},
   "outputs": [],
   "source": [
    "def group_data(data, window_size=96):\n",
    "    \"\"\"\n",
    "    Separa o vetor data em pares de vetores X de entrada e valor de predição y\n",
    "    data: Conjunto de dados\n",
    "    window_size: Tamanho dos vetores de dados em X\n",
    "    Retorna o vetor X e Y\n",
    "    \"\"\"\n",
    "    data_X = []\n",
    "    data_Y = []\n",
    "    len_data = len(data)\n",
    "    for i in range(len_data - window_size):\n",
    "        data_X.append(data[i:i + window_size])\n",
    "        data_Y.append(data[i + window_size])\n",
    "    return np.array(data_X), np.array(data_Y)"
   ]
  },
  {
   "cell_type": "code",
   "execution_count": 5,
   "metadata": {},
   "outputs": [],
   "source": [
    "import pandas as pd\n",
    "import numpy as np\n",
    "import importlib\n",
    "\n",
    "from segmentation_algorithms.utils import *\n",
    "\n",
    "from time import perf_counter \n",
    "\n",
    "try:\n",
    "  importlib.reload(plot)\n",
    "except:\n",
    "  import plot\n",
    "  importlib.reload(plot)\n",
    "from plot import plot\n",
    "\n",
    "try:\n",
    "  importlib.reload(segmentation_algorithms.topdown_index)\n",
    "except:\n",
    "  import segmentation_algorithms.topdown_index\n",
    "  importlib.reload(segmentation_algorithms.topdown_index)\n",
    "from segmentation_algorithms.topdown_index import XTSTreeTopDownIndex\n",
    "\n",
    "try:\n",
    "  importlib.reload(segmentation_algorithms.topdown_reg)\n",
    "except:\n",
    "  import segmentation_algorithms.topdown_reg\n",
    "  importlib.reload(segmentation_algorithms.topdown_reg)\n",
    "from segmentation_algorithms.topdown_reg import XTSTreeTopDownReg\n",
    "\n",
    "try:\n",
    "  importlib.reload(XTSTree.XTSTreePageHinkley)\n",
    "except:\n",
    "  import XTSTree.XTSTreePageHinkley\n",
    "  importlib.reload(XTSTree.XTSTreePageHinkley)\n",
    "from XTSTree.XTSTreePageHinkley import XTSTreePageHinkley"
   ]
  },
  {
   "cell_type": "code",
   "execution_count": 6,
   "metadata": {},
   "outputs": [],
   "source": [
    "def mae(y, y_hat):\n",
    "    return np.mean(np.abs(y - y_hat))\n",
    "def rmse(y, y_hat):\n",
    "    return np.sqrt(np.mean(np.square(y - y_hat)))"
   ]
  },
  {
   "cell_type": "code",
   "execution_count": 7,
   "metadata": {},
   "outputs": [],
   "source": [
    "series = np.array(pd.read_csv('./datasets/base datasets/23025122/export_automaticas_23025122_tempmedar2m.csv')['tempmedar2m'][:96*20])"
   ]
  },
  {
   "cell_type": "markdown",
   "metadata": {},
   "source": [
    "Page-Hinkley aplicado na série"
   ]
  },
  {
   "cell_type": "code",
   "execution_count": 8,
   "metadata": {},
   "outputs": [
    {
     "name": "stdout",
     "output_type": "stream",
     "text": [
      "Não achei só um corte, escolhendo corte que gera maior pontuação, 1634, 683.5525588636692, 0, 5\n"
     ]
    }
   ],
   "source": [
    "t = perf_counter()\n",
    "ph_model = XTSTreePageHinkley(stop_condition='adf', stop_val=0.5, max_iter=100, min_dist=0)\n",
    "ph_model = ph_model.create_splits(series)\n",
    "# plot(np.array(series), divisions=ph_model.cut_points(), title=f'Tempo: {perf_counter() - t}')\n",
    "segments_page_hinkley = ph_model.cut_series(series)"
   ]
  },
  {
   "cell_type": "markdown",
   "metadata": {},
   "source": [
    "Regressão linear aplicado no índice"
   ]
  },
  {
   "cell_type": "code",
   "execution_count": 9,
   "metadata": {},
   "outputs": [],
   "source": [
    "m_model, _, _, _ = apply_lr(np.arange(len(series)), series)\n",
    "yhat = m_model.predict(np.arange(len(series)).reshape(-1, 1))\n",
    "error = rmse(series, yhat)\n",
    "# plot(series, sec_plots=[yhat], title=f'error: {error}')\n",
    "\n",
    "t = perf_counter()\n",
    "tdi_model = XTSTreeTopDownIndex(stop_val=2.5, max_iter=100, min_dist=0)\n",
    "tdi_model = tdi_model.create_splits(series)\n",
    "# plot(series, divisions=tdi_model.cut_points(), title=f'Tempo: {perf_counter() - t}')\n",
    "segments_tdi = tdi_model.cut_series(series)"
   ]
  },
  {
   "cell_type": "markdown",
   "metadata": {},
   "source": [
    "Regressão linear aplicado numa janela variável"
   ]
  },
  {
   "cell_type": "code",
   "execution_count": 10,
   "metadata": {},
   "outputs": [],
   "source": [
    "lag = 2\n",
    "\n",
    "X, y = group_data(series, lag)\n",
    "m_model, _, _, _ = apply_lr(X, y)\n",
    "yhat = m_model.predict(X)\n",
    "error = rmse(series[lag:], yhat)\n",
    "# plot(series[lag:], sec_plots=[yhat], title=f'error: {error}')\n",
    "\n",
    "t = perf_counter()\n",
    "tdr_model = XTSTreeTopDownReg(stop_val=0.3, max_iter=100, min_dist=0, lag=lag)\n",
    "tdr_model = tdr_model.create_splits(series)\n",
    "# plot(series, divisions=tdr_model.cut_points(), title=f'Tempo: {perf_counter() - t}')\n",
    "segments_tdr = tdr_model.cut_series(series)"
   ]
  },
  {
   "cell_type": "code",
   "execution_count": 11,
   "metadata": {},
   "outputs": [],
   "source": [
    "from pysr import *"
   ]
  },
  {
   "cell_type": "code",
   "execution_count": 12,
   "metadata": {},
   "outputs": [],
   "source": [
    "from pysr import *\n",
    "def get_regressor(\n",
    "    criteria,\n",
    "    output_file,\n",
    "    pop_n,\n",
    "    pop_size,\n",
    "    iterations,\n",
    "    max_complexity=20,\n",
    "    binary_operators=['+', '-', '*', '/', 'pow'],\n",
    "    unary_operators=['sqrt', 'sin'],\n",
    "    constraints=None,\n",
    "    verbosity=0,\n",
    "    early_stop_condition=None\n",
    "   ):\n",
    "  \"\"\"\n",
    "  constraints é um dicionário com os operadores unários e binários e uma tupla com a complexidade máxima dos argumentos.\n",
    "  ver o que o should_simplify faz, aparentemente simplifica a equação, mas ver como ele faz isso\n",
    "  usar random_state pra garantir mesmos resultados\n",
    "  \"\"\"\n",
    "  return PySRRegressor(\n",
    "    binary_operators=binary_operators,\n",
    "    unary_operators=unary_operators,\n",
    "    maxsize=max_complexity,\n",
    "    niterations=iterations,\n",
    "    populations=pop_n,\n",
    "    population_size=pop_size,\n",
    "    progress=False,\n",
    "    model_selection=criteria,\n",
    "    equation_file=f'./symbreg_objects/{output_file}.csv',\n",
    "    verbosity = verbosity,\n",
    "    temp_equation_file=False,\n",
    "    early_stop_condition=early_stop_condition\n",
    "  )"
   ]
  },
  {
   "cell_type": "code",
   "execution_count": 13,
   "metadata": {},
   "outputs": [],
   "source": [
    "criteria='accuracy'\n",
    "pop_n=5\n",
    "pop_size=20\n",
    "iterations=30\n",
    "max_complexity=30"
   ]
  },
  {
   "cell_type": "code",
   "execution_count": 14,
   "metadata": {},
   "outputs": [
    {
     "name": "stderr",
     "output_type": "stream",
     "text": [
      "Exception in thread Thread-7 (_readerthread):\n",
      "Traceback (most recent call last):\n",
      "  File \"C:\\Users\\vitor\\AppData\\Local\\Programs\\Python\\Python311\\Lib\\threading.py\", line 1045, in _bootstrap_inner\n",
      "    self.run()\n",
      "  File \"C:\\Users\\vitor\\AppData\\Local\\Programs\\Python\\Python311\\Lib\\threading.py\", line 982, in run\n",
      "    self._target(*self._args, **self._kwargs)\n",
      "  File \"C:\\Users\\vitor\\AppData\\Local\\Programs\\Python\\Python311\\Lib\\subprocess.py\", line 1597, in _readerthread\n",
      "    buffer.append(fh.read())\n",
      "                  ^^^^^^^^^\n",
      "  File \"C:\\Users\\vitor\\AppData\\Local\\Programs\\Python\\Python311\\Lib\\encodings\\cp1252.py\", line 23, in decode\n",
      "    return codecs.charmap_decode(input,self.errors,decoding_table)[0]\n",
      "           ^^^^^^^^^^^^^^^^^^^^^^^^^^^^^^^^^^^^^^^^^^^^^^^^^^^^^^^\n",
      "UnicodeDecodeError: 'charmap' codec can't decode byte 0x81 in position 226: character maps to <undefined>\n"
     ]
    },
    {
     "ename": "AttributeError",
     "evalue": "'NoneType' object has no attribute 'rstrip'",
     "output_type": "error",
     "traceback": [
      "\u001b[1;31m---------------------------------------------------------------------------\u001b[0m",
      "\u001b[1;31mAttributeError\u001b[0m                            Traceback (most recent call last)",
      "Cell \u001b[1;32mIn[14], line 12\u001b[0m\n\u001b[0;32m      3\u001b[0m modelo \u001b[38;5;241m=\u001b[39m get_regressor(\n\u001b[0;32m      4\u001b[0m   criteria\u001b[38;5;241m=\u001b[39mcriteria,\n\u001b[0;32m      5\u001b[0m   output_file\u001b[38;5;241m=\u001b[39m\u001b[38;5;124m'\u001b[39m\u001b[38;5;124mteste\u001b[39m\u001b[38;5;124m'\u001b[39m,\n\u001b[1;32m   (...)\u001b[0m\n\u001b[0;32m      9\u001b[0m   max_complexity\u001b[38;5;241m=\u001b[39mmax_complexity,\n\u001b[0;32m     10\u001b[0m )\n\u001b[0;32m     11\u001b[0m t \u001b[38;5;241m=\u001b[39m perf_counter()\n\u001b[1;32m---> 12\u001b[0m \u001b[43mmodelo\u001b[49m\u001b[38;5;241;43m.\u001b[39;49m\u001b[43mfit\u001b[49m\u001b[43m(\u001b[49m\u001b[43m[\u001b[49m\u001b[43m[\u001b[49m\u001b[43mi\u001b[49m\u001b[43m]\u001b[49m\u001b[43m \u001b[49m\u001b[38;5;28;43;01mfor\u001b[39;49;00m\u001b[43m \u001b[49m\u001b[43mi\u001b[49m\u001b[43m \u001b[49m\u001b[38;5;129;43;01min\u001b[39;49;00m\u001b[43m \u001b[49m\u001b[38;5;28;43mrange\u001b[39;49m\u001b[43m(\u001b[49m\u001b[38;5;28;43mlen\u001b[39;49m\u001b[43m(\u001b[49m\u001b[43mseries\u001b[49m\u001b[43m)\u001b[49m\u001b[43m)\u001b[49m\u001b[43m]\u001b[49m\u001b[43m,\u001b[49m\u001b[43m \u001b[49m\u001b[43mseries\u001b[49m\u001b[43m)\u001b[49m\n\u001b[0;32m     13\u001b[0m end_t \u001b[38;5;241m=\u001b[39m perf_counter() \u001b[38;5;241m-\u001b[39m t\n\u001b[0;32m     15\u001b[0m prediction_full \u001b[38;5;241m=\u001b[39m modelo\u001b[38;5;241m.\u001b[39mpredict(np\u001b[38;5;241m.\u001b[39marray([[i] \u001b[38;5;28;01mfor\u001b[39;00m i \u001b[38;5;129;01min\u001b[39;00m \u001b[38;5;28mrange\u001b[39m(\u001b[38;5;28mlen\u001b[39m(series))]))\n",
      "File \u001b[1;32mc:\\Users\\vitor\\OneDrive\\Área de Trabalho\\Mestrado\\XTSTree\\.venv\\Lib\\site-packages\\pysr\\sr.py:1877\u001b[0m, in \u001b[0;36mPySRRegressor.fit\u001b[1;34m(self, X, y, Xresampled, weights, variable_names, X_units, y_units)\u001b[0m\n\u001b[0;32m   1874\u001b[0m     \u001b[38;5;28mself\u001b[39m\u001b[38;5;241m.\u001b[39m_checkpoint()\n\u001b[0;32m   1876\u001b[0m \u001b[38;5;66;03m# Perform the search:\u001b[39;00m\n\u001b[1;32m-> 1877\u001b[0m \u001b[38;5;28;43mself\u001b[39;49m\u001b[38;5;241;43m.\u001b[39;49m\u001b[43m_run\u001b[49m\u001b[43m(\u001b[49m\u001b[43mX\u001b[49m\u001b[43m,\u001b[49m\u001b[43m \u001b[49m\u001b[43my\u001b[49m\u001b[43m,\u001b[49m\u001b[43m \u001b[49m\u001b[43mmutated_params\u001b[49m\u001b[43m,\u001b[49m\u001b[43m \u001b[49m\u001b[43mweights\u001b[49m\u001b[38;5;241;43m=\u001b[39;49m\u001b[43mweights\u001b[49m\u001b[43m,\u001b[49m\u001b[43m \u001b[49m\u001b[43mseed\u001b[49m\u001b[38;5;241;43m=\u001b[39;49m\u001b[43mseed\u001b[49m\u001b[43m)\u001b[49m\n\u001b[0;32m   1879\u001b[0m \u001b[38;5;66;03m# Then, after fit, we save again, so the pickle file contains\u001b[39;00m\n\u001b[0;32m   1880\u001b[0m \u001b[38;5;66;03m# the equations:\u001b[39;00m\n\u001b[0;32m   1881\u001b[0m \u001b[38;5;28;01mif\u001b[39;00m \u001b[38;5;129;01mnot\u001b[39;00m \u001b[38;5;28mself\u001b[39m\u001b[38;5;241m.\u001b[39mtemp_equation_file:\n",
      "File \u001b[1;32mc:\\Users\\vitor\\OneDrive\\Área de Trabalho\\Mestrado\\XTSTree\\.venv\\Lib\\site-packages\\pysr\\sr.py:1532\u001b[0m, in \u001b[0;36mPySRRegressor._run\u001b[1;34m(self, X, y, mutated_params, weights, seed)\u001b[0m\n\u001b[0;32m   1529\u001b[0m \u001b[38;5;28;01mif\u001b[39;00m \u001b[38;5;129;01mnot\u001b[39;00m already_ran \u001b[38;5;129;01mand\u001b[39;00m update_verbosity \u001b[38;5;241m!=\u001b[39m \u001b[38;5;241m0\u001b[39m:\n\u001b[0;32m   1530\u001b[0m     \u001b[38;5;28mprint\u001b[39m(\u001b[38;5;124m\"\u001b[39m\u001b[38;5;124mCompiling Julia backend...\u001b[39m\u001b[38;5;124m\"\u001b[39m)\n\u001b[1;32m-> 1532\u001b[0m Main \u001b[38;5;241m=\u001b[39m \u001b[43minit_julia\u001b[49m\u001b[43m(\u001b[49m\u001b[38;5;28;43mself\u001b[39;49m\u001b[38;5;241;43m.\u001b[39;49m\u001b[43mjulia_project\u001b[49m\u001b[43m,\u001b[49m\u001b[43m \u001b[49m\u001b[43mjulia_kwargs\u001b[49m\u001b[38;5;241;43m=\u001b[39;49m\u001b[43mjulia_kwargs\u001b[49m\u001b[43m)\u001b[49m\n\u001b[0;32m   1534\u001b[0m \u001b[38;5;28;01mif\u001b[39;00m cluster_manager \u001b[38;5;129;01mis\u001b[39;00m \u001b[38;5;129;01mnot\u001b[39;00m \u001b[38;5;28;01mNone\u001b[39;00m:\n\u001b[0;32m   1535\u001b[0m     cluster_manager \u001b[38;5;241m=\u001b[39m _load_cluster_manager(Main, cluster_manager)\n",
      "File \u001b[1;32mc:\\Users\\vitor\\OneDrive\\Área de Trabalho\\Mestrado\\XTSTree\\.venv\\Lib\\site-packages\\pysr\\julia_helpers.py:199\u001b[0m, in \u001b[0;36minit_julia\u001b[1;34m(julia_project, quiet, julia_kwargs, return_aux)\u001b[0m\n\u001b[0;32m    196\u001b[0m _set_julia_project_env(processed_julia_project, is_shared)\n\u001b[0;32m    198\u001b[0m \u001b[38;5;28;01mtry\u001b[39;00m:\n\u001b[1;32m--> 199\u001b[0m     info \u001b[38;5;241m=\u001b[39m \u001b[43mJuliaInfo\u001b[49m\u001b[38;5;241;43m.\u001b[39;49m\u001b[43mload\u001b[49m\u001b[43m(\u001b[49m\u001b[43mjulia\u001b[49m\u001b[38;5;241;43m=\u001b[39;49m\u001b[38;5;124;43m\"\u001b[39;49m\u001b[38;5;124;43mjulia\u001b[39;49m\u001b[38;5;124;43m\"\u001b[39;49m\u001b[43m)\u001b[49m\n\u001b[0;32m    200\u001b[0m \u001b[38;5;28;01mexcept\u001b[39;00m \u001b[38;5;167;01mFileNotFoundError\u001b[39;00m:\n\u001b[0;32m    201\u001b[0m     env_path \u001b[38;5;241m=\u001b[39m os\u001b[38;5;241m.\u001b[39menviron[\u001b[38;5;124m\"\u001b[39m\u001b[38;5;124mPATH\u001b[39m\u001b[38;5;124m\"\u001b[39m]\n",
      "File \u001b[1;32mc:\\Users\\vitor\\OneDrive\\Área de Trabalho\\Mestrado\\XTSTree\\.venv\\Lib\\site-packages\\julia\\juliainfo.py:95\u001b[0m, in \u001b[0;36mJuliaInfo.load\u001b[1;34m(cls, julia, **popen_kwargs)\u001b[0m\n\u001b[0;32m     92\u001b[0m \u001b[38;5;28;01mif\u001b[39;00m stderr:\n\u001b[0;32m     93\u001b[0m     warnings\u001b[38;5;241m.\u001b[39mwarn(\u001b[38;5;124m\"\u001b[39m\u001b[38;5;132;01m{}\u001b[39;00m\u001b[38;5;124m warned:\u001b[39m\u001b[38;5;130;01m\\n\u001b[39;00m\u001b[38;5;132;01m{}\u001b[39;00m\u001b[38;5;124m\"\u001b[39m\u001b[38;5;241m.\u001b[39mformat(julia, stderr))\n\u001b[1;32m---> 95\u001b[0m args \u001b[38;5;241m=\u001b[39m \u001b[43mstdout\u001b[49m\u001b[38;5;241;43m.\u001b[39;49m\u001b[43mrstrip\u001b[49m()\u001b[38;5;241m.\u001b[39msplit(\u001b[38;5;124m\"\u001b[39m\u001b[38;5;130;01m\\n\u001b[39;00m\u001b[38;5;124m\"\u001b[39m)\n\u001b[0;32m     97\u001b[0m \u001b[38;5;28;01mreturn\u001b[39;00m \u001b[38;5;28mcls\u001b[39m(julia, \u001b[38;5;241m*\u001b[39margs)\n",
      "\u001b[1;31mAttributeError\u001b[0m: 'NoneType' object has no attribute 'rstrip'"
     ]
    }
   ],
   "source": [
    "output = []\n",
    "for rep in range(10):\n",
    "  modelo = get_regressor(\n",
    "    criteria=criteria,\n",
    "    output_file='teste',\n",
    "    pop_n=pop_n,\n",
    "    pop_size=pop_size,\n",
    "    iterations=iterations,\n",
    "    max_complexity=max_complexity,\n",
    "  )\n",
    "  t = perf_counter()\n",
    "  modelo.fit([[i] for i in range(len(series))], series)\n",
    "  end_t = perf_counter() - t\n",
    "\n",
    "  prediction_full = modelo.predict(np.array([[i] for i in range(len(series))]))\n",
    "  complexity_full = modelo.get_best()[\"complexity\"]\n",
    "\n",
    "  output.append({\n",
    "    'nome': f'Full_{rep}',\n",
    "    'MAE (erro entre a série inteira e a predição de todos os segmentos)': mae(series, prediction_full),\n",
    "    'RMSE (erro entre a série inteira e a predição de todos os segmentos)': rmse(series, prediction_full),\n",
    "    'complexidade (média dos segmentos)': complexity_full,\n",
    "    'desvio padrão complexidade': 0,\n",
    "    'criteria': criteria,\n",
    "    'pop_n': pop_n,\n",
    "    'pop_size': pop_size,\n",
    "    'iterations': iterations,\n",
    "    'max_complexity': max_complexity,\n",
    "    'tempo': end_t,\n",
    "    'numero de segmentos': 1,\n",
    "  })\n",
    "  pd.DataFrame(output).to_csv('./resultados.csv', index=False)\n",
    "  for segments, name in [(segments_page_hinkley, 'Page-hinkley'), (segments_tdi, 'Top-down index'), (segments_tdr, 'Top-down regression')]:\n",
    "    y_hat = []\n",
    "    complexities = []\n",
    "    try:\n",
    "      time = perf_counter()\n",
    "      for segment in segments:\n",
    "        modelo = get_regressor(\n",
    "          criteria=criteria,\n",
    "          output_file='teste',\n",
    "          pop_n=pop_n,\n",
    "          pop_size=pop_size,\n",
    "          iterations=iterations,\n",
    "          max_complexity=max_complexity,\n",
    "        )\n",
    "        modelo.fit([[i] for i in range(len(segment))], segment)\n",
    "\n",
    "        prediction = modelo.predict(np.array([[i] for i in range(len(segment))]))\n",
    "        y_hat = y_hat + list(prediction)\n",
    "        complexities.append(modelo.get_best()[\"complexity\"])\n",
    "      end_t = perf_counter() - time\n",
    "      output.append({\n",
    "        'nome': f'{name}_{rep}',\n",
    "        'MAE (erro entre a série inteira e a predição de todos os segmentos)': mae(series, y_hat),\n",
    "        'RMSE (erro entre a série inteira e a predição de todos os segmentos)': rmse(series, y_hat),\n",
    "        'complexidade (média dos segmentos)': np.mean(complexities),\n",
    "        'desvio padrão complexidade': np.std(complexities),\n",
    "        'criteria': criteria,\n",
    "        'pop_n': pop_n,\n",
    "        'pop_size': pop_size,\n",
    "        'iterations': iterations,\n",
    "        'max_complexity': max_complexity,\n",
    "        'tempo': end_t,\n",
    "        'numero de segmentos': len(segments),\n",
    "      })\n",
    "      pd.DataFrame(output).to_csv('./resultados.csv', index=False)\n",
    "    except Exception as e:\n",
    "      print(f'Erro no PySR durante a execução nos segmentos')\n",
    "      print(f'Tamanho do segmento: {len(segment)}')\n",
    "      print(f'Equação: {modelo.get_best()[\"equation\"]}')\n",
    "      print(f'Erro: {e}')"
   ]
  },
  {
   "cell_type": "code",
   "execution_count": null,
   "metadata": {},
   "outputs": [
    {
     "data": {
      "text/html": [
       "<div>\n",
       "<style scoped>\n",
       "    .dataframe tbody tr th:only-of-type {\n",
       "        vertical-align: middle;\n",
       "    }\n",
       "\n",
       "    .dataframe tbody tr th {\n",
       "        vertical-align: top;\n",
       "    }\n",
       "\n",
       "    .dataframe thead th {\n",
       "        text-align: right;\n",
       "    }\n",
       "</style>\n",
       "<table border=\"1\" class=\"dataframe\">\n",
       "  <thead>\n",
       "    <tr style=\"text-align: right;\">\n",
       "      <th></th>\n",
       "      <th>nome</th>\n",
       "      <th>MAE (erro entre a série inteira e a predição de todos os segmentos)</th>\n",
       "      <th>RMSE (erro entre a série inteira e a predição de todos os segmentos)</th>\n",
       "      <th>complexidade (média dos segmentos)</th>\n",
       "      <th>desvio padrão complexidade</th>\n",
       "      <th>criteria</th>\n",
       "      <th>pop_n</th>\n",
       "      <th>pop_size</th>\n",
       "      <th>iterations</th>\n",
       "      <th>max_complexity</th>\n",
       "      <th>tempo</th>\n",
       "      <th>numero de segmentos</th>\n",
       "    </tr>\n",
       "  </thead>\n",
       "  <tbody>\n",
       "    <tr>\n",
       "      <th>0</th>\n",
       "      <td>Full_0</td>\n",
       "      <td>2.311779</td>\n",
       "      <td>2.830528</td>\n",
       "      <td>29.000000</td>\n",
       "      <td>0.000000</td>\n",
       "      <td>accuracy</td>\n",
       "      <td>5</td>\n",
       "      <td>20</td>\n",
       "      <td>30</td>\n",
       "      <td>30</td>\n",
       "      <td>19.741255</td>\n",
       "      <td>1</td>\n",
       "    </tr>\n",
       "    <tr>\n",
       "      <th>1</th>\n",
       "      <td>Page-hinkley_0</td>\n",
       "      <td>1.232133</td>\n",
       "      <td>1.723117</td>\n",
       "      <td>26.307692</td>\n",
       "      <td>3.122736</td>\n",
       "      <td>accuracy</td>\n",
       "      <td>5</td>\n",
       "      <td>20</td>\n",
       "      <td>30</td>\n",
       "      <td>30</td>\n",
       "      <td>30.318036</td>\n",
       "      <td>13</td>\n",
       "    </tr>\n",
       "    <tr>\n",
       "      <th>2</th>\n",
       "      <td>Top-down index_0</td>\n",
       "      <td>1.108671</td>\n",
       "      <td>1.529832</td>\n",
       "      <td>12.500000</td>\n",
       "      <td>10.530032</td>\n",
       "      <td>accuracy</td>\n",
       "      <td>5</td>\n",
       "      <td>20</td>\n",
       "      <td>30</td>\n",
       "      <td>30</td>\n",
       "      <td>82.472898</td>\n",
       "      <td>38</td>\n",
       "    </tr>\n",
       "  </tbody>\n",
       "</table>\n",
       "</div>"
      ],
      "text/plain": [
       "               nome  \\\n",
       "0            Full_0   \n",
       "1    Page-hinkley_0   \n",
       "2  Top-down index_0   \n",
       "\n",
       "   MAE (erro entre a série inteira e a predição de todos os segmentos)  \\\n",
       "0                                           2.311779                     \n",
       "1                                           1.232133                     \n",
       "2                                           1.108671                     \n",
       "\n",
       "   RMSE (erro entre a série inteira e a predição de todos os segmentos)  \\\n",
       "0                                           2.830528                      \n",
       "1                                           1.723117                      \n",
       "2                                           1.529832                      \n",
       "\n",
       "   complexidade (média dos segmentos)  desvio padrão complexidade  criteria  \\\n",
       "0                           29.000000                    0.000000  accuracy   \n",
       "1                           26.307692                    3.122736  accuracy   \n",
       "2                           12.500000                   10.530032  accuracy   \n",
       "\n",
       "   pop_n  pop_size  iterations  max_complexity      tempo  numero de segmentos  \n",
       "0      5        20          30              30  19.741255                    1  \n",
       "1      5        20          30              30  30.318036                   13  \n",
       "2      5        20          30              30  82.472898                   38  "
      ]
     },
     "execution_count": 2,
     "metadata": {},
     "output_type": "execute_result"
    }
   ],
   "source": [
    "resultados = pd.read_csv('resultados.csv')\n",
    "resultados"
   ]
  }
 ],
 "metadata": {
  "kernelspec": {
   "display_name": "Python 3",
   "language": "python",
   "name": "python3"
  },
  "language_info": {
   "codemirror_mode": {
    "name": "ipython",
    "version": 3
   },
   "file_extension": ".py",
   "mimetype": "text/x-python",
   "name": "python",
   "nbconvert_exporter": "python",
   "pygments_lexer": "ipython3",
   "version": "3.11.7"
  }
 },
 "nbformat": 4,
 "nbformat_minor": 2
}
