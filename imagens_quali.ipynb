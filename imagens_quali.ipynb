{
 "cells": [
  {
   "cell_type": "code",
   "execution_count": null,
   "metadata": {},
   "outputs": [],
   "source": [
    "from plot import plot\n",
    "import pandas as pd\n",
    "from statsmodels.tsa.stattools import adfuller\n",
    "from river.drift import PageHinkley"
   ]
  },
  {
   "cell_type": "markdown",
   "metadata": {},
   "source": [
    "1820 ne\n",
    "12000 e"
   ]
  },
  {
   "cell_type": "markdown",
   "metadata": {},
   "source": [
    "Série temporal"
   ]
  },
  {
   "cell_type": "code",
   "execution_count": null,
   "metadata": {},
   "outputs": [],
   "source": [
    "feature = 'umidrelmed2m'\n",
    "series = pd.read_csv(f'./datasets/base datasets/23025122/export_automaticas_23025122_{feature}.csv')\n",
    "index = 0\n",
    "plot(series[feature][index:index+96*20], figsize=(6,4), show_axis=(False, False),\n",
    "    # save=True,\n",
    "    img_name='imagens_quali/serie_temporal.jpeg', frame=False)"
   ]
  },
  {
   "cell_type": "markdown",
   "metadata": {},
   "source": [
    "Série (não) estacionária"
   ]
  },
  {
   "cell_type": "code",
   "execution_count": null,
   "metadata": {},
   "outputs": [],
   "source": [
    "feature = 'tempsolocm20cm'\n",
    "series = pd.read_csv(f'./datasets/base datasets/23025122/export_automaticas_23025122_{feature}.csv')\n",
    "index = 12000\n",
    "res = adfuller(series[feature][index:index+96*7])\n",
    "plot(series[feature][index:index+96*7],\n",
    "\ttitle=f'{res[4][\"5%\"] - res[0]:.2f} ({\"\" if (res[4][\"5%\"] - res[0]) > 0 else \"não-\"}estacionária)',\n",
    "\tshow_axis=(False, False),\n",
    "\t# save=True,\n",
    "\timg_name='imagens_quali/estacionaria.jpeg',\n",
    "\tdpi=720,\n",
    ")\n",
    "plot(series[feature][index:index+96*7],\n",
    "\t# title=f'{res[4][\"5%\"] - res[0]:.2f} ({\"\" if (res[4][\"5%\"] - res[0]) > 0 else \"não-\"}estacionária)',\n",
    "\tshow_axis=(False, False),\n",
    "\t# save=True,\n",
    "\timg_name='imagens_quali/estacionaria_sem_nada.jpeg',\n",
    "\tframe=False,\n",
    "\tdpi=720,\n",
    ")"
   ]
  },
  {
   "cell_type": "code",
   "execution_count": null,
   "metadata": {},
   "outputs": [],
   "source": [
    "feature = 'tempsolocm20cm'\n",
    "series = pd.read_csv(f'./datasets/base datasets/23025122/export_automaticas_23025122_{feature}.csv')\n",
    "index = 13500\n",
    "con_drift = series[feature][index:index+96*20].to_list()\n",
    "plot(con_drift,\n",
    "\tshow_axis=(False, False),\n",
    "\t# save=True,\n",
    "\timg_name='imagens_quali/concept_drift.jpeg',\n",
    "\tdpi=720,\n",
    "\tframe=False,\n",
    "\tdivisions=[i for i in range(610,850)],\n",
    ")"
   ]
  },
  {
   "cell_type": "code",
   "execution_count": null,
   "metadata": {},
   "outputs": [],
   "source": [
    "feature = 'tempsolocm20cm'\n",
    "series = pd.read_csv(f'./datasets/base datasets/23025122/export_automaticas_23025122_{feature}.csv')\n",
    "index = 13500\n",
    "con_drift = series[feature][index:index+96*20].to_list()\n",
    "\n",
    "detector = PageHinkley(\n",
    "\talpha=1-0.0001,\n",
    "\tdelta=1,\n",
    "\tthreshold=100,\n",
    "\tmode='both',\n",
    ")\n",
    "drifts = []\n",
    "for i, x in enumerate(con_drift):\n",
    "  detector.update(x)\n",
    "  if detector.drift_detected:\n",
    "    drifts.append(i)\n",
    "\n",
    "plot(con_drift,\n",
    "\tshow_axis=(False, False),\n",
    "\t# save=True,\n",
    "\timg_name='imagens_quali/page_hinkley.jpeg',\n",
    "\tdpi=720,\n",
    "\tframe=False,\n",
    "\tdivisions=drifts,\n",
    ")"
   ]
  },
  {
   "cell_type": "code",
   "execution_count": null,
   "metadata": {},
   "outputs": [],
   "source": [
    "feature = 'tempsolocm20cm'\n",
    "series = pd.read_csv(f'./datasets/base datasets/23025122/export_automaticas_23025122_{feature}.csv')\n",
    "index = 13500\n",
    "con_drift = series[feature][index:index+96*20].to_list()\n",
    "\n",
    "plot(con_drift,\n",
    "\t# save=True,\n",
    "\tfigsize=(5.25,3.5),\n",
    "\timg_name='imagens_quali/segmentation_ex.jpeg',\n",
    "\tdpi=720,\n",
    "\tdivisions=[600, 900],\n",
    "\tbackgrounds=[\n",
    "\t\t{'start': 0,'end': 600, 'color': '#0066FF'},\n",
    "\t\t{'start': 600,'end': 900, 'color': '#D3321D'},\n",
    "\t\t{'start': 900,'end': len(con_drift), 'color': '#0066FF'}\n",
    "  ],\n",
    ")"
   ]
  },
  {
   "cell_type": "markdown",
   "metadata": {},
   "source": [
    "Top-Down"
   ]
  },
  {
   "cell_type": "code",
   "execution_count": null,
   "metadata": {},
   "outputs": [],
   "source": [
    "feature = 'tempsolocm20cm'\n",
    "series = pd.read_csv(f'./datasets/base datasets/23025122/export_automaticas_23025122_{feature}.csv')\n",
    "index = 13500\n",
    "con_drift = series[feature][index:index+96*20].to_list()\n",
    "\n",
    "plot(con_drift,\n",
    "\t# save=True,\n",
    "\tfigsize=(3.5,3),\n",
    "\timg_name='imagens_quali/top down/top_down_1.jpeg',\n",
    "\tdpi=720,\n",
    "\tshow_axis=(False, False),\n",
    "\tbackgrounds=[\n",
    "\t\t{'start': 0,'end': len(con_drift), 'color': '#0066FF'},\n",
    "  ],\n",
    ")\n",
    "\n",
    "plot(con_drift,\n",
    "\t# save=True,\n",
    "\tfigsize=(3.5,3),\n",
    "\timg_name='imagens_quali/top down/top_down_2.jpeg',\n",
    "\tdpi=720,\n",
    "\tdivisions=[600],\n",
    "\tshow_axis=(False, False),\n",
    "\tbackgrounds=[\n",
    "\t\t{'start': 0,'end': 600, 'color': '#0066FF'},\n",
    "\t\t{'start': 600,'end': len(con_drift), 'color': '#D3321D'},\n",
    "  ],\n",
    ")\n",
    "\n",
    "plot(con_drift,\n",
    "\t# save=True,\n",
    "\timg_name='imagens_quali/top down/top_down_3.jpeg',\n",
    "\tfigsize=(3.5,3),\n",
    "\tdpi=720,\n",
    "\tdivisions=[600, 900],\n",
    "\tshow_axis=(False, False),\n",
    "\tbackgrounds=[\n",
    "\t\t{'start': 0,'end': 600, 'color': '#0066FF'},\n",
    "\t\t{'start': 600,'end': 900, 'color': '#D3321D'},\n",
    "\t\t{'start': 900,'end': len(con_drift), 'color': '#66DF4D'}\n",
    "  ],\n",
    ")"
   ]
  },
  {
   "cell_type": "markdown",
   "metadata": {},
   "source": [
    "Bottom-up"
   ]
  },
  {
   "cell_type": "code",
   "execution_count": null,
   "metadata": {},
   "outputs": [],
   "source": [
    "from segmentation_algorithms.bottomup import BottomUp"
   ]
  },
  {
   "cell_type": "code",
   "execution_count": null,
   "metadata": {},
   "outputs": [],
   "source": [
    "# bu = BottomUp(con_drift)\n",
    "# segs = bu.fit(\n",
    "#   \t\t\t\t\t3,\n",
    "# \t\t\t\t\t\tinit_seg_size=4,\n",
    "#       \t\t\t# print_when=[80, 10, 9, 5],\n",
    "#          \t\t# path='./imagens_quali/bottom up'\n",
    "# \t\t\t\t\t)"
   ]
  },
  {
   "cell_type": "code",
   "execution_count": null,
   "metadata": {},
   "outputs": [],
   "source": [
    "# divs = [seg['end'] for seg in segs][:-1]\n",
    "# plot(con_drift,\n",
    "# \tdivisions=divs,\n",
    "# \tshow=False,\n",
    "# \tsave=True,\n",
    "# \timg_name='./imagens_quali/bottom up/bottom_up_final.jpeg',\n",
    "# \tshow_axis=(False, False),\n",
    "# \tfigsize=(3.5,3),\n",
    "# \tdpi=720,\n",
    "# \tbackgrounds=[\n",
    "# \t\t{'start': 0,'end': divs[0], 'color': '#0066FF'},\n",
    "# \t\t{'start': divs[0],'end': divs[1], 'color': '#D3321D'},\n",
    "# \t\t{'start': divs[1],'end': len(con_drift), 'color': '#66DF4D'}\n",
    "# \t],\n",
    "# )"
   ]
  },
  {
   "cell_type": "markdown",
   "metadata": {},
   "source": [
    "Sliding window"
   ]
  },
  {
   "cell_type": "code",
   "execution_count": null,
   "metadata": {},
   "outputs": [],
   "source": [
    "feature = 'tempsolocm20cm'\n",
    "series = pd.read_csv(f'./datasets/base datasets/23025122/export_automaticas_23025122_{feature}.csv')\n",
    "index = 13500\n",
    "con_drift = series[feature][index:index+96*20].to_list()\n",
    "\n",
    "plot(con_drift,\n",
    "\tsave=True,\n",
    "\tfigsize=(3.5,3),\n",
    "\timg_name='imagens_quali/sliding window/sliding_window_1.jpeg',\n",
    "\tdpi=720,\n",
    "\tshow_axis=(True, False),\n",
    "\tlabels=[\n",
    "  \t{'x': 0, 'label': 'Âncora'}\n",
    "\t],\n",
    "\tdivisions=[0],\n",
    "\tbackgrounds=[\n",
    "\t\t{'start': 0,'end': len(con_drift), 'color': '#66DF4D'},\n",
    "  ],\n",
    ")\n",
    "\n",
    "plot(con_drift,\n",
    "\tsave=True,\n",
    "\tfigsize=(3.5,3),\n",
    "\timg_name='imagens_quali/sliding window/sliding_window_2.jpeg',\n",
    "\tdpi=720,\n",
    "\tshow_axis=(False, False),\n",
    "\t# labels=[\n",
    "  # \t{'x': 0, 'label': 'Âncora'}\n",
    "\t# ],\n",
    "\tdivisions=[i for i in range(0, 200)],\n",
    "\tbackgrounds=[\n",
    "\t\t{'start': 0,'end': 200, 'color': '#0066FF'},\n",
    "\t\t{'start': 200,'end': len(con_drift), 'color': '#66DF4D'},\n",
    "  ],\n",
    ")\n",
    "\n",
    "plot(con_drift,\n",
    "\tsave=True,\n",
    "\tfigsize=(3.5,3),\n",
    "\timg_name='imagens_quali/sliding window/sliding_window_3.jpeg',\n",
    "\tdpi=720,\n",
    "\tshow_axis=(False, False),\n",
    "\t# labels=[\n",
    "  # \t{'x': 0, 'label': 'Âncora'}\n",
    "\t# ],\n",
    "\tdivisions=[i for i in range(0, 600)],\n",
    "\tbackgrounds=[\n",
    "\t\t{'start': 0,'end': 600, 'color': '#0066FF'},\n",
    "\t\t{'start': 600,'end': len(con_drift), 'color': '#66DF4D'},\n",
    "  ],\n",
    ")\n",
    "\n",
    "plot(con_drift,\n",
    "\tsave=True,\n",
    "\tfigsize=(3.5,3),\n",
    "\timg_name='imagens_quali/sliding window/sliding_window_4.jpeg',\n",
    "\tdpi=720,\n",
    "\tshow_axis=(True, False),\n",
    "\tlabels=[\n",
    "  \t{'x': 600, 'label': 'Nova âncora'}\n",
    "\t],\n",
    "\tdivisions=[600],\n",
    "\tbackgrounds=[\n",
    "\t\t{'start': 0,'end': 600, 'color': '#0066FF'},\n",
    "\t\t{'start': 600,'end': len(con_drift), 'color': '#66DF4D'},\n",
    "  ],\n",
    ")\n",
    "\n",
    "plot(con_drift,\n",
    "\tsave=True,\n",
    "\tfigsize=(3.5,3),\n",
    "\timg_name='imagens_quali/sliding window/sliding_window_5.jpeg',\n",
    "\tdpi=720,\n",
    "\tshow_axis=(False, False),\n",
    "\tdivisions=[i for i in range(600, 900)],\n",
    "\tbackgrounds=[\n",
    "\t\t{'start': 0,'end': 600, 'color': '#0066FF'},\n",
    "\t\t{'start': 600,'end': 900, 'color': '#D3321D'},\n",
    "\t\t{'start': 900,'end': len(con_drift), 'color': '#66DF4D'}\n",
    "  ],\n",
    ")\n",
    "\n",
    "plot(con_drift,\n",
    "\tsave=True,\n",
    "\tfigsize=(3.5,3),\n",
    "\timg_name='imagens_quali/sliding window/sliding_window_6.jpeg',\n",
    "\tdpi=720,\n",
    "\tshow_axis=(True, False),\n",
    "\tlabels=[\n",
    "  \t{'x': 900, 'label': 'Nova âncora'}\n",
    "\t],\n",
    "\tdivisions=[600, 900],\n",
    "\tbackgrounds=[\n",
    "\t\t{'start': 0,'end': 600, 'color': '#0066FF'},\n",
    "\t\t{'start': 600,'end': 900, 'color': '#D3321D'},\n",
    "\t\t{'start': 900,'end': len(con_drift), 'color': '#66DF4D'}\n",
    "  ],\n",
    ")\n",
    "\n",
    "plot(con_drift,\n",
    "\tsave=True,\n",
    "\tfigsize=(3.5,3),\n",
    "\timg_name='imagens_quali/sliding window/sliding_window_7.jpeg',\n",
    "\tdpi=720,\n",
    "\tshow_axis=(False, False),\n",
    "\tdivisions=[600, *[i for i in range(900, len(con_drift))]],\n",
    "\tbackgrounds=[\n",
    "\t\t{'start': 0,'end': 600, 'color': '#0066FF'},\n",
    "\t\t{'start': 600,'end': 900, 'color': '#D3321D'},\n",
    "\t\t{'start': 900,'end': len(con_drift), 'color': '#66DF4D'}\n",
    "  ],\n",
    ")\n",
    "\n",
    "plot(con_drift,\n",
    "\tsave=True,\n",
    "\tfigsize=(3.5,3),\n",
    "\timg_name='imagens_quali/sliding window/sliding_window_8.jpeg',\n",
    "\tdpi=720,\n",
    "\tshow_axis=(False, False),\n",
    "\tdivisions=[600, 900],\n",
    "\tbackgrounds=[\n",
    "\t\t{'start': 0,'end': 600, 'color': '#0066FF'},\n",
    "\t\t{'start': 600,'end': 900, 'color': '#D3321D'},\n",
    "\t\t{'start': 900,'end': len(con_drift), 'color': '#66DF4D'}\n",
    "  ],\n",
    ")"
   ]
  },
  {
   "cell_type": "markdown",
   "metadata": {},
   "source": [
    "Feature importante"
   ]
  },
  {
   "cell_type": "code",
   "execution_count": 27,
   "metadata": {},
   "outputs": [
    {
     "name": "stdout",
     "output_type": "stream",
     "text": [
      "preds       setosa  versicolor  virginica\n",
      "actual                                   \n",
      "setosa          13           0          0\n",
      "versicolor       0          18          0\n",
      "virginica        0           2         16\n"
     ]
    },
    {
     "data": {
      "text/plain": [
       "Text(0.5, 0, 'Relative Importance')"
      ]
     },
     "execution_count": 27,
     "metadata": {},
     "output_type": "execute_result"
    },
    {
     "data": {
      "image/png": "[encoded data removed]",
      "text/plain": [
       "<Figure size 432x288 with 1 Axes>"
      ]
     },
     "metadata": {
      "needs_background": "light"
     },
     "output_type": "display_data"
    }
   ],
   "source": [
    "#Modified from the example written by yhat that can be found here:\n",
    "#http://blog.yhathq.com/posts/random-forests-in-python.html\n",
    "\n",
    "from sklearn.ensemble import RandomForestClassifier as RFC\n",
    "from sklearn.datasets import load_iris\n",
    "\n",
    "import numpy as np\n",
    "import pandas as pd\n",
    "import matplotlib.pyplot as plt\n",
    "\n",
    "iris = load_iris()\n",
    "df = pd.DataFrame(iris.data, columns=iris.feature_names)\n",
    "df['is_train'] = np.random.uniform(0, 1, len(df)) <= .75\n",
    "df['species'] = pd.Categorical.from_codes(iris.target, iris.target_names)\n",
    "\n",
    "train, test = df[df['is_train']==True], df[df['is_train']==False]\n",
    "features = df.columns[0:4]\n",
    "\n",
    "forest = RFC(n_jobs=2,n_estimators=50)\n",
    "y, _ = pd.factorize(train['species'])\n",
    "forest.fit(train[features], y)\n",
    "\n",
    "preds = iris.target_names[forest.predict(test[features])]\n",
    "print(pd.crosstab(index=test['species'], columns=preds, rownames=['actual'], colnames=['preds']))\n",
    "\n",
    "importances = forest.feature_importances_\n",
    "indices = np.argsort(importances)\n",
    "\n",
    "plt.figure(1)\n",
    "plt.title('Feature Importances')\n",
    "plt.barh(range(len(indices)), importances[indices], color='b', align='center')\n",
    "plt.yticks(range(len(indices)), features[indices])\n",
    "plt.xlabel('Relative Importance')"
   ]
  }
 ],
 "metadata": {
  "kernelspec": {
   "display_name": "Python 3",
   "language": "python",
   "name": "python3"
  },
  "language_info": {
   "codemirror_mode": {
    "name": "ipython",
    "version": 3
   },
   "file_extension": ".py",
   "mimetype": "text/x-python",
   "name": "python",
   "nbconvert_exporter": "python",
   "pygments_lexer": "ipython3",
   "version": "3.10.8"
  }
 },
 "nbformat": 4,
 "nbformat_minor": 2
}
